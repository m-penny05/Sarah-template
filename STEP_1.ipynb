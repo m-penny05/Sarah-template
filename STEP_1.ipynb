{
 "cells": [
  {
   "cell_type": "code",
   "execution_count": null,
   "metadata": {},
   "outputs": [],
   "source": [
    "#STEP 1: This code is able to take the Case 1 sheet and copy and paste all the values\n",
    "#  where the column headers match betweeb case 1 and the template. Step 2 takes this new comparsion sheet with the new values and gets the formulas\n",
    "# from the orginal comparison template"
   ]
  },
  {
   "cell_type": "code",
   "execution_count": 1,
   "metadata": {},
   "outputs": [
    {
     "name": "stdout",
     "output_type": "stream",
     "text": [
      "Requirement already satisfied: pandas in c:\\users\\63141\\appdata\\local\\anaconda3\\lib\\site-packages (2.1.4)Note: you may need to restart the kernel to use updated packages.\n",
      "\n",
      "Requirement already satisfied: openpyxl in c:\\users\\63141\\appdata\\local\\anaconda3\\lib\\site-packages (3.0.10)\n",
      "Requirement already satisfied: numpy<2,>=1.23.2 in c:\\users\\63141\\appdata\\local\\anaconda3\\lib\\site-packages (from pandas) (1.26.4)\n",
      "Requirement already satisfied: python-dateutil>=2.8.2 in c:\\users\\63141\\appdata\\local\\anaconda3\\lib\\site-packages (from pandas) (2.8.2)\n",
      "Requirement already satisfied: pytz>=2020.1 in c:\\users\\63141\\appdata\\local\\anaconda3\\lib\\site-packages (from pandas) (2023.3.post1)\n",
      "Requirement already satisfied: tzdata>=2022.1 in c:\\users\\63141\\appdata\\local\\anaconda3\\lib\\site-packages (from pandas) (2023.3)\n",
      "Requirement already satisfied: et_xmlfile in c:\\users\\63141\\appdata\\local\\anaconda3\\lib\\site-packages (from openpyxl) (1.1.0)\n",
      "Requirement already satisfied: six>=1.5 in c:\\users\\63141\\appdata\\local\\anaconda3\\lib\\site-packages (from python-dateutil>=2.8.2->pandas) (1.16.0)\n"
     ]
    }
   ],
   "source": [
    "pip install pandas openpyxl"
   ]
  },
  {
   "cell_type": "code",
   "execution_count": 2,
   "metadata": {},
   "outputs": [],
   "source": [
    "import pandas as pd\n",
    "from openpyxl import load_workbook"
   ]
  },
  {
   "cell_type": "code",
   "execution_count": 4,
   "metadata": {},
   "outputs": [],
   "source": [
    "compare_path = \"C:\\\\Users\\\\63141\\\\Desktop\\\\Comparison Template2.xlsx\"\n",
    "\n",
    "case1_path = \"C:\\\\Users\\\\63141\\\\Desktop\\\\Case_1.xlsx\""
   ]
  },
  {
   "cell_type": "code",
   "execution_count": 6,
   "metadata": {},
   "outputs": [],
   "source": [
    "#compare_path = \n",
    "template = pd.read_excel(compare_path, sheet_name = 'Case_1')\n",
    "# case1_path = \n",
    "case_1 = pd.read_excel(case1_path, sheet_name = 'AC1AC2 Report-1')"
   ]
  },
  {
   "cell_type": "code",
   "execution_count": 7,
   "metadata": {},
   "outputs": [
    {
     "name": "stderr",
     "output_type": "stream",
     "text": [
      "c:\\Users\\63141\\AppData\\Local\\anaconda3\\Lib\\site-packages\\openpyxl\\reader\\excel.py:228: UserWarning: Data Validation extension is not supported and will be removed\n",
      "  ws_parser.bind_all()\n"
     ]
    }
   ],
   "source": [
    "common_columns = case_1.columns.intersection(template.columns)\n",
    "\n",
    "# Copy data from case_1 to template for common columns\n",
    "for col in common_columns:\n",
    "    template[col] = case_1[col]\n",
    "\n",
    "# Save the updated DataFrame to a new Excel file (to preserve formulas in the existing file)\n",
    "temp_file = 'C:\\\\Users\\\\63141\\\\Desktop\\\\temp_template.xlsx'\n",
    "template.to_excel(temp_file, index=False)\n",
    "\n",
    "# Load the original template workbook and the updated one\n",
    "wb_original = load_workbook(compare_path)\n",
    "wb_updated = load_workbook(temp_file)\n",
    "\n",
    "# Select the specified sheet (assuming both files have the same sheet structure)\n",
    "sheet_original = wb_original['Case_1']\n",
    "sheet_updated = wb_updated.active\n",
    "\n",
    "# Copy values from updated sheet to original sheet while preserving formulas\n",
    "for row in sheet_updated.iter_rows(min_row=2, max_row=sheet_updated.max_row, max_col=sheet_updated.max_column):\n",
    "    for cell in row:\n",
    "        # Find the matching cell in the original sheet\n",
    "        cell_original = sheet_original.cell(row=cell.row, column=cell.column)\n",
    "        cell_original.value = cell.value\n",
    "\n",
    "# Save the original workbook with updated values\n",
    "wb_original.save(compare_path)\n",
    "\n",
    "# Clean up temporary file\n",
    "import os\n",
    "os.remove(temp_file)"
   ]
  },
  {
   "cell_type": "code",
   "execution_count": null,
   "metadata": {},
   "outputs": [],
   "source": []
  },
  {
   "cell_type": "code",
   "execution_count": null,
   "metadata": {},
   "outputs": [],
   "source": []
  }
 ],
 "metadata": {
  "kernelspec": {
   "display_name": "base",
   "language": "python",
   "name": "python3"
  },
  "language_info": {
   "codemirror_mode": {
    "name": "ipython",
    "version": 3
   },
   "file_extension": ".py",
   "mimetype": "text/x-python",
   "name": "python",
   "nbconvert_exporter": "python",
   "pygments_lexer": "ipython3",
   "version": "3.11.7"
  }
 },
 "nbformat": 4,
 "nbformat_minor": 2
}
