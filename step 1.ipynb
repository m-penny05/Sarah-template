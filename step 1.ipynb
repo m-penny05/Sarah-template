{
 "cells": [
  {
   "cell_type": "code",
   "execution_count": null,
   "metadata": {},
   "outputs": [],
   "source": []
  },
  {
   "cell_type": "code",
   "execution_count": 1,
   "metadata": {},
   "outputs": [],
   "source": [
    "import pandas as pd"
   ]
  },
  {
   "cell_type": "markdown",
   "metadata": {},
   "source": []
  },
  {
   "cell_type": "code",
   "execution_count": null,
   "metadata": {},
   "outputs": [],
   "source": [
    "# this is the code to try and preserve the excel formulas\n"
   ]
  },
  {
   "cell_type": "code",
   "execution_count": null,
   "metadata": {},
   "outputs": [],
   "source": [
    "!pip install pandas openpyxl  # If using openpyxl\n",
    "!pip install pandas xlrd\n",
    "import openpyxl\n",
    "import pandas as pd"
   ]
  },
  {
   "cell_type": "code",
   "execution_count": null,
   "metadata": {},
   "outputs": [],
   "source": [
    "#compare_path = \n",
    "compare = pd.read_excel(compare_path, sheet_name = 'Case_1')\n",
    "# case1_path = \n",
    "case1 = pd.read_excel(case1_path, sheet_name = 'AC1AC2 Report-1')"
   ]
  },
  {
   "cell_type": "code",
   "execution_count": null,
   "metadata": {},
   "outputs": [],
   "source": [
    "columns_to_match = ['Year', 'Region Group', 'Unit Long Name', 'Fuel Consumption Jan-Feb TBtu', 'Mar-Apr Thousand Tons']"
   ]
  },
  {
   "cell_type": "code",
   "execution_count": null,
   "metadata": {},
   "outputs": [],
   "source": [
    "for column in columns_to_match:\n",
    "  if column in case1.columns and column in compare.columns:\n",
    "    compare[column] = case1[column]"
   ]
  },
  {
   "cell_type": "code",
   "execution_count": null,
   "metadata": {},
   "outputs": [],
   "source": [
    "#export_path = \n",
    "compare.to_excel(export_path index = False)"
   ]
  },
  {
   "cell_type": "code",
   "execution_count": null,
   "metadata": {},
   "outputs": [],
   "source": [
    "import openpyxl\n",
    "\n",
    "# Load the workbooks\n",
    "workbook_orig = openpyxl.load_workbook('compare.xlsx', read_only=True)\n",
    "workbook_updated = openpyxl.load_workbook('merged_test.xlsx')\n",
    "\n",
    "# Select the active worksheets (assuming you are working with the first sheet)\n",
    "sheet_orig = workbook_orig.active\n",
    "sheet_updated = workbook_updated.active\n",
    "\n",
    "# Define the chunk size\n",
    "chunk_size = 100  # Adjust based on your memory constraints\n",
    "\n",
    "# Function to process a chunk of rows\n",
    "def process_chunk(rows, sheet_updated):\n",
    "    for row in rows:\n",
    "        for cell in row:\n",
    "            if cell.data_type == 'f':  # Check if the cell contains a formula\n",
    "                sheet_updated[cell.coordinate] = cell.value\n",
    "\n",
    "# Process the rows in chunks for the original workbook\n",
    "start_row = 1\n",
    "rows = []\n",
    "for row in sheet_orig.iter_rows():\n",
    "    rows.append(row)\n",
    "    if len(rows) == chunk_size:\n",
    "        process_chunk(rows, sheet_updated)\n",
    "        rows = []\n",
    "# Process any remaining rows\n",
    "if rows:\n",
    "    process_chunk(rows, sheet_updated)\n",
    "\n",
    "# Save the updated workbook\n",
    "workbook_updated.save('updated_merged_test.xlsx')\n"
   ]
  },
  {
   "cell_type": "code",
   "execution_count": null,
   "metadata": {},
   "outputs": [],
   "source": [
    "workbook_orig = openpyxl.load_workbook('compare.xlsx')\n",
    "workbook_updated = openpyxl.load_workbook('merged_test.xlsx')"
   ]
  },
  {
   "cell_type": "code",
   "execution_count": null,
   "metadata": {},
   "outputs": [],
   "source": [
    "sheet_orig = workbook_orig.active\n",
    "sheet_updated = workbook_updated.active"
   ]
  },
  {
   "cell_type": "code",
   "execution_count": null,
   "metadata": {},
   "outputs": [],
   "source": [
    "for row in sheet_orig.iter_rows():\n",
    "  for cell in row:\n",
    "    if cell.data_type == 'f':\n",
    "      sheet_updated[cell.coordinate] = cell.value"
   ]
  },
  {
   "cell_type": "code",
   "execution_count": null,
   "metadata": {},
   "outputs": [],
   "source": [
    "workbook_updated.save('merged_test_formula.xlsx')"
   ]
  },
  {
   "cell_type": "code",
   "execution_count": null,
   "metadata": {},
   "outputs": [],
   "source": []
  },
  {
   "cell_type": "code",
   "execution_count": null,
   "metadata": {},
   "outputs": [],
   "source": [
    "workbook_orig.close()\n",
    "workbook_updated.close()"
   ]
  }
 ],
 "metadata": {
  "kernelspec": {
   "display_name": "base",
   "language": "python",
   "name": "python3"
  },
  "language_info": {
   "codemirror_mode": {
    "name": "ipython",
    "version": 3
   },
   "file_extension": ".py",
   "mimetype": "text/x-python",
   "name": "python",
   "nbconvert_exporter": "python",
   "pygments_lexer": "ipython3",
   "version": "3.11.7"
  }
 },
 "nbformat": 4,
 "nbformat_minor": 2
}
