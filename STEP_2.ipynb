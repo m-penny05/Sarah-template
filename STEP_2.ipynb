{
 "cells": [
  {
   "cell_type": "code",
   "execution_count": 1,
   "metadata": {},
   "outputs": [],
   "source": [
    "import pandas as pd\n",
    "from openpyxl import load_workbook"
   ]
  },
  {
   "cell_type": "code",
   "execution_count": 2,
   "metadata": {},
   "outputs": [
    {
     "name": "stderr",
     "output_type": "stream",
     "text": [
      "c:\\Users\\63141\\AppData\\Local\\anaconda3\\Lib\\site-packages\\openpyxl\\reader\\excel.py:228: UserWarning: Data Validation extension is not supported and will be removed\n",
      "  ws_parser.bind_all()\n"
     ]
    }
   ],
   "source": [
    "from openpyxl import load_workbook\n",
    "import os\n",
    "\n",
    "# File paths\n",
    "# formulas path is a empty comparsion template\n",
    "formulas_path = \"C:\\\\Users\\\\63141\\\\Desktop\\\\Comparison Template-empty.xlsx\"\n",
    "#paste to path is the file from step 1 ( the comparsion template with case 1 info copied in) this is where the end result will be\n",
    "paste_to_path = \"C:\\\\Users\\\\63141\\\\Desktop\\\\Comparison Template2.xlsx\"\n",
    "\n",
    "# Columns with formulas to preserve\n",
    "preserve_columns = [\"Type\", \"cap type\", \"region\", \"state\", \"US?\", \"ult parent\"]\n",
    "\n",
    "try:\n",
    "    # Load the workbook with formulas\n",
    "    wb_formulas = load_workbook(formulas_path, data_only=False)\n",
    "    sheet_formulas = wb_formulas.active\n",
    "\n",
    "    # Load the workbook to paste formulas\n",
    "    wb_paste_to = load_workbook(paste_to_path, data_only=False)\n",
    "    sheet_paste_to = wb_paste_to.active\n",
    "\n",
    "    # Get the headers and their indices in both sheets\n",
    "    headers_formulas = [cell.value for cell in sheet_formulas[1]]  # Assuming headers are in the first row\n",
    "    header_indices_formulas = {header: idx + 1 for idx, header in enumerate(headers_formulas)}\n",
    "\n",
    "    headers_paste_to = [cell.value for cell in sheet_paste_to[1]]  # Assuming headers are in the first row\n",
    "    header_indices_paste_to = {header: idx + 1 for idx, header in enumerate(headers_paste_to)}\n",
    "\n",
    "    # Copy formulas from source to target\n",
    "    for col in preserve_columns:\n",
    "        if col in header_indices_formulas and col in header_indices_paste_to:\n",
    "            col_idx_formulas = header_indices_formulas[col]\n",
    "            col_idx_paste_to = header_indices_paste_to[col]\n",
    "\n",
    "            # Iterate over rows in the source sheet and copy formulas\n",
    "            for row in range(2, sheet_formulas.max_row + 1):  # Assuming data starts from row 2\n",
    "                formula = sheet_formulas.cell(row=row, column=col_idx_formulas).value\n",
    "                sheet_paste_to.cell(row=row, column=col_idx_paste_to).value = formula\n",
    "\n",
    "    # Save the updated workbook\n",
    "    wb_paste_to.save(paste_to_path)\n",
    "\n",
    "    # Optional: Open the updated file\n",
    "    os.startfile(paste_to_path)\n",
    "\n",
    "except Exception as e:\n",
    "    print(f\"An error occurred: {e}\")"
   ]
  }
 ],
 "metadata": {
  "kernelspec": {
   "display_name": "base",
   "language": "python",
   "name": "python3"
  },
  "language_info": {
   "codemirror_mode": {
    "name": "ipython",
    "version": 3
   },
   "file_extension": ".py",
   "mimetype": "text/x-python",
   "name": "python",
   "nbconvert_exporter": "python",
   "pygments_lexer": "ipython3",
   "version": "3.11.7"
  }
 },
 "nbformat": 4,
 "nbformat_minor": 2
}
